{
 "cells": [
  {
   "cell_type": "markdown",
   "id": "muslim-incidence",
   "metadata": {},
   "source": [
    "规则1：周围有两个或者三个活细胞，下一世代，该细胞仍然活着。  \n",
    "规则2：周围少于两个活细胞，该细胞死于孤立。  \n",
    "规则3：周围多于三个活细胞，该细胞死于拥挤。"
   ]
  },
  {
   "cell_type": "code",
   "execution_count": 1,
   "id": "mounted-aside",
   "metadata": {
    "ExecuteTime": {
     "end_time": "2022-04-13T12:04:45.001151Z",
     "start_time": "2022-04-13T12:04:44.291795Z"
    }
   },
   "outputs": [],
   "source": [
    "import argparse\n",
    "import numpy as np \n",
    "import enum\n",
    "import matplotlib.pyplot as plt\n",
    "from matplotlib import animation"
   ]
  },
  {
   "cell_type": "code",
   "execution_count": 2,
   "id": "increased-rebecca",
   "metadata": {
    "ExecuteTime": {
     "end_time": "2022-04-13T12:04:45.031856Z",
     "start_time": "2022-04-13T12:04:45.018352Z"
    }
   },
   "outputs": [],
   "source": [
    "class State(enum.IntEnum):\n",
    "    on = 255\n",
    "    off = 0\n",
    "def random_data(length, seed) -> np.array:\n",
    "    '''\n",
    "    生成一个大小为length的二维棋盘\n",
    "    '''\n",
    "    np.random.seed(seed)\n",
    "    return np.random.choice([State.off, State.on], size=(length, length), p=[0.5, 0.5])"
   ]
  },
  {
   "cell_type": "code",
   "execution_count": 3,
   "id": "documented-religion",
   "metadata": {
    "ExecuteTime": {
     "end_time": "2022-04-13T12:04:45.063224Z",
     "start_time": "2022-04-13T12:04:45.049280Z"
    }
   },
   "outputs": [],
   "source": [
    "checkerboard_10_420 = random_data(10,420)"
   ]
  },
  {
   "cell_type": "code",
   "execution_count": 4,
   "id": "independent-celtic",
   "metadata": {
    "ExecuteTime": {
     "end_time": "2022-04-13T12:04:45.344268Z",
     "start_time": "2022-04-13T12:04:45.080179Z"
    }
   },
   "outputs": [
    {
     "data": {
      "text/plain": [
       "<matplotlib.image.AxesImage at 0x26bfd970d60>"
      ]
     },
     "execution_count": 4,
     "metadata": {},
     "output_type": "execute_result"
    },
    {
     "data": {
      "image/png": "[encoded data removed]",
      "text/plain": [
       "<Figure size 432x288 with 1 Axes>"
      ]
     },
     "metadata": {
      "needs_background": "light"
     },
     "output_type": "display_data"
    }
   ],
   "source": [
    "plt.imshow(checkerboard_10_420)"
   ]
  },
  {
   "cell_type": "code",
   "execution_count": 5,
   "id": "handy-techno",
   "metadata": {
    "ExecuteTime": {
     "end_time": "2022-04-13T12:04:45.639621Z",
     "start_time": "2022-04-13T12:04:45.633612Z"
    }
   },
   "outputs": [],
   "source": [
    "def count_state(data, row, col):\n",
    "    shape = data.shape[0]\n",
    "    up = (row - 1) % shape\n",
    "    down = (row + 1) % shape\n",
    "    right = (col + 1) % shape\n",
    "    left = (col - 1) % shape\n",
    "    return (data[up, right] + data[up, left] +\n",
    "            data[down, right] + data[down, left] +\n",
    "            data[row, right] + data[row, left] +\n",
    "            data[up, col] + data[down, col]) // 255"
   ]
  },
  {
   "cell_type": "code",
   "execution_count": 6,
   "id": "electoral-cooper",
   "metadata": {
    "ExecuteTime": {
     "end_time": "2022-04-13T12:04:46.169640Z",
     "start_time": "2022-04-13T12:04:46.161661Z"
    }
   },
   "outputs": [],
   "source": [
    "def count(initial, data, row, col):\n",
    "    total = count_state(initial, row, col)\n",
    "    if initial[row, col]:\n",
    "        if (total < 2) or (total > 3):\n",
    "            data[row, col] = State.off\n",
    "    else:\n",
    "        if total == 3:\n",
    "            data[row, col] = State.on"
   ]
  },
  {
   "cell_type": "code",
   "execution_count": 7,
   "id": "northern-waste",
   "metadata": {
    "ExecuteTime": {
     "end_time": "2022-04-13T12:04:46.589833Z",
     "start_time": "2022-04-13T12:04:46.576744Z"
    }
   },
   "outputs": [],
   "source": [
    "def update(data, save_name):\n",
    "    update_interval = 50\n",
    "    fig, ax = plt.subplots()\n",
    "    ax.set_xticks([])\n",
    "    ax.set_yticks([])\n",
    "    img = ax.imshow(data, cmap='autumn', interpolation='nearest')\n",
    "    ani = animation.FuncAnimation(fig, generate, fargs=(img, plt, data),\n",
    "                                  frames=20,\n",
    "                                  interval=update_interval,\n",
    "                                  save_count=50)\n",
    "    if save_name:\n",
    "        ani.save(save_name, fps=30, extra_args=['-vcodec', 'libx264'])\n",
    "    plt.show()"
   ]
  },
  {
   "cell_type": "code",
   "execution_count": 8,
   "id": "surgical-animation",
   "metadata": {
    "ExecuteTime": {
     "end_time": "2022-04-13T12:04:47.149764Z",
     "start_time": "2022-04-13T12:04:47.129823Z"
    }
   },
   "outputs": [],
   "source": [
    "NUM = 0\n",
    "\n",
    "def generate(frame_num, img, plt, initial):\n",
    "    global NUM\n",
    "    NUM += 1\n",
    "    plt.title(f'{NUM} generation')\n",
    "    data = initial.copy()\n",
    "    rows, cols = data.shape\n",
    "    for row in range(rows):\n",
    "        for col in range(cols):\n",
    "            count(initial, data, row, col)\n",
    "    img.set_data(data)\n",
    "    initial[:] = data[:]\n",
    "    return img"
   ]
  },
  {
   "cell_type": "code",
   "execution_count": 9,
   "id": "human-thanks",
   "metadata": {
    "ExecuteTime": {
     "end_time": "2022-04-13T12:04:47.852878Z",
     "start_time": "2022-04-13T12:04:47.848162Z"
    }
   },
   "outputs": [],
   "source": [
    "data = random_data(10,420)"
   ]
  },
  {
   "cell_type": "code",
   "execution_count": 10,
   "id": "gross-jersey",
   "metadata": {
    "ExecuteTime": {
     "end_time": "2022-04-13T12:04:48.791504Z",
     "start_time": "2022-04-13T12:04:48.489328Z"
    }
   },
   "outputs": [
    {
     "name": "stderr",
     "output_type": "stream",
     "text": [
      "MovieWriter ffmpeg unavailable; using Pillow instead.\n"
     ]
    },
    {
     "ename": "TypeError",
     "evalue": "__init__() got an unexpected keyword argument 'extra_args'",
     "output_type": "error",
     "traceback": [
      "\u001b[1;31m---------------------------------------------------------------------------\u001b[0m",
      "\u001b[1;31mTypeError\u001b[0m                                 Traceback (most recent call last)",
      "\u001b[1;32m<ipython-input-10-7eecc4c4a19e>\u001b[0m in \u001b[0;36m<module>\u001b[1;34m\u001b[0m\n\u001b[1;32m----> 1\u001b[1;33m \u001b[0mupdate\u001b[0m\u001b[1;33m(\u001b[0m\u001b[0mdata\u001b[0m\u001b[1;33m,\u001b[0m \u001b[1;34m'10x10.html'\u001b[0m\u001b[1;33m)\u001b[0m\u001b[1;33m\u001b[0m\u001b[1;33m\u001b[0m\u001b[0m\n\u001b[0m",
      "\u001b[1;32m<ipython-input-7-8e5a17344af0>\u001b[0m in \u001b[0;36mupdate\u001b[1;34m(data, save_name)\u001b[0m\n\u001b[0;32m     10\u001b[0m                                   save_count=50)\n\u001b[0;32m     11\u001b[0m     \u001b[1;32mif\u001b[0m \u001b[0msave_name\u001b[0m\u001b[1;33m:\u001b[0m\u001b[1;33m\u001b[0m\u001b[1;33m\u001b[0m\u001b[0m\n\u001b[1;32m---> 12\u001b[1;33m         \u001b[0mani\u001b[0m\u001b[1;33m.\u001b[0m\u001b[0msave\u001b[0m\u001b[1;33m(\u001b[0m\u001b[0msave_name\u001b[0m\u001b[1;33m,\u001b[0m \u001b[0mfps\u001b[0m\u001b[1;33m=\u001b[0m\u001b[1;36m30\u001b[0m\u001b[1;33m,\u001b[0m \u001b[0mextra_args\u001b[0m\u001b[1;33m=\u001b[0m\u001b[1;33m[\u001b[0m\u001b[1;34m'-vcodec'\u001b[0m\u001b[1;33m,\u001b[0m \u001b[1;34m'libx264'\u001b[0m\u001b[1;33m]\u001b[0m\u001b[1;33m)\u001b[0m\u001b[1;33m\u001b[0m\u001b[1;33m\u001b[0m\u001b[0m\n\u001b[0m\u001b[0;32m     13\u001b[0m     \u001b[0mplt\u001b[0m\u001b[1;33m.\u001b[0m\u001b[0mshow\u001b[0m\u001b[1;33m(\u001b[0m\u001b[1;33m)\u001b[0m\u001b[1;33m\u001b[0m\u001b[1;33m\u001b[0m\u001b[0m\n",
      "\u001b[1;32mD:\\anaconda3\\lib\\site-packages\\matplotlib\\animation.py\u001b[0m in \u001b[0;36msave\u001b[1;34m(self, filename, writer, fps, dpi, codec, bitrate, extra_args, metadata, extra_anim, savefig_kwargs, progress_callback)\u001b[0m\n\u001b[0;32m   1115\u001b[0m                 _log.warning(\"MovieWriter %s unavailable; using Pillow \"\n\u001b[0;32m   1116\u001b[0m                              \"instead.\", writer)\n\u001b[1;32m-> 1117\u001b[1;33m             \u001b[0mwriter\u001b[0m \u001b[1;33m=\u001b[0m \u001b[0mwriter_cls\u001b[0m\u001b[1;33m(\u001b[0m\u001b[0mfps\u001b[0m\u001b[1;33m,\u001b[0m \u001b[1;33m**\u001b[0m\u001b[0mwriter_kwargs\u001b[0m\u001b[1;33m)\u001b[0m\u001b[1;33m\u001b[0m\u001b[1;33m\u001b[0m\u001b[0m\n\u001b[0m\u001b[0;32m   1118\u001b[0m         \u001b[0m_log\u001b[0m\u001b[1;33m.\u001b[0m\u001b[0minfo\u001b[0m\u001b[1;33m(\u001b[0m\u001b[1;34m'Animation.save using %s'\u001b[0m\u001b[1;33m,\u001b[0m \u001b[0mtype\u001b[0m\u001b[1;33m(\u001b[0m\u001b[0mwriter\u001b[0m\u001b[1;33m)\u001b[0m\u001b[1;33m)\u001b[0m\u001b[1;33m\u001b[0m\u001b[1;33m\u001b[0m\u001b[0m\n\u001b[0;32m   1119\u001b[0m \u001b[1;33m\u001b[0m\u001b[0m\n",
      "\u001b[1;31mTypeError\u001b[0m: __init__() got an unexpected keyword argument 'extra_args'"
     ]
    },
    {
     "data": {
      "image/png": "[encoded data removed]",
      "text/plain": [
       "<Figure size 432x288 with 1 Axes>"
      ]
     },
     "metadata": {},
     "output_type": "display_data"
    }
   ],
   "source": [
    "update(data, '10x10.html')"
   ]
  },
  {
   "cell_type": "code",
   "execution_count": null,
   "id": "liquid-access",
   "metadata": {},
   "outputs": [],
   "source": []
  }
 ],
 "metadata": {
  "kernelspec": {
   "display_name": "Python 3",
   "language": "python",
   "name": "python3"
  },
  "language_info": {
   "codemirror_mode": {
    "name": "ipython",
    "version": 3
   },
   "file_extension": ".py",
   "mimetype": "text/x-python",
   "name": "python",
   "nbconvert_exporter": "python",
   "pygments_lexer": "ipython3",
   "version": "3.8.8"
  },
  "latex_envs": {
   "LaTeX_envs_menu_present": true,
   "autoclose": false,
   "autocomplete": true,
   "bibliofile": "biblio.bib",
   "cite_by": "apalike",
   "current_citInitial": 1,
   "eqLabelWithNumbers": true,
   "eqNumInitial": 1,
   "hotkeys": {
    "equation": "Ctrl-E",
    "itemize": "Ctrl-I"
   },
   "labels_anchors": false,
   "latex_user_defs": false,
   "report_style_numbering": false,
   "user_envs_cfg": false
  },
  "toc": {
   "base_numbering": 1,
   "nav_menu": {},
   "number_sections": true,
   "sideBar": true,
   "skip_h1_title": false,
   "title_cell": "Table of Contents",
   "title_sidebar": "Contents",
   "toc_cell": false,
   "toc_position": {},
   "toc_section_display": true,
   "toc_window_display": false
  },
  "varInspector": {
   "cols": {
    "lenName": 16,
    "lenType": 16,
    "lenVar": 40
   },
   "kernels_config": {
    "python": {
     "delete_cmd_postfix": "",
     "delete_cmd_prefix": "del ",
     "library": "var_list.py",
     "varRefreshCmd": "print(var_dic_list())"
    },
    "r": {
     "delete_cmd_postfix": ") ",
     "delete_cmd_prefix": "rm(",
     "library": "var_list.r",
     "varRefreshCmd": "cat(var_dic_list()) "
    }
   },
   "types_to_exclude": [
    "module",
    "function",
    "builtin_function_or_method",
    "instance",
    "_Feature"
   ],
   "window_display": false
  }
 },
 "nbformat": 4,
 "nbformat_minor": 5
}
