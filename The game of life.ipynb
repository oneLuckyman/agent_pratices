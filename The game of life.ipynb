{
 "cells": [
  {
   "cell_type": "markdown",
   "id": "muslim-incidence",
   "metadata": {},
   "source": [
    "规则1：周围有两个或者三个活细胞，下一世代，该细胞仍然活着。  \n",
    "规则2：周围少于两个活细胞，该细胞死于孤立。  \n",
    "规则3：周围多于三个活细胞，该细胞死于拥挤。"
   ]
  },
  {
   "cell_type": "code",
   "execution_count": 1,
   "id": "mounted-aside",
   "metadata": {
    "ExecuteTime": {
     "end_time": "2022-04-10T13:28:59.432036Z",
     "start_time": "2022-04-10T13:28:59.195825Z"
    }
   },
   "outputs": [],
   "source": [
    "import numpy as np \n",
    "import enum\n",
    "import matplotlib.pyplot as plt"
   ]
  },
  {
   "cell_type": "code",
   "execution_count": 2,
   "id": "increased-rebecca",
   "metadata": {
    "ExecuteTime": {
     "end_time": "2022-04-10T13:28:59.601191Z",
     "start_time": "2022-04-10T13:28:59.588886Z"
    }
   },
   "outputs": [],
   "source": [
    "class State(enum.IntEnum):\n",
    "    on = 1\n",
    "    off = 0\n",
    "def random_data(length, seed) -> np.array:\n",
    "    '''\n",
    "    生成一个大小为length的二维棋盘\n",
    "    '''\n",
    "    np.random.seed(seed)\n",
    "    return np.random.choice([State.off, State.on], size=(length, length), p=[0.5, 0.5])"
   ]
  },
  {
   "cell_type": "code",
   "execution_count": 3,
   "id": "documented-religion",
   "metadata": {
    "ExecuteTime": {
     "end_time": "2022-04-10T13:28:59.755013Z",
     "start_time": "2022-04-10T13:28:59.740162Z"
    }
   },
   "outputs": [],
   "source": [
    "checkerboard_10_420 = random_data(10,420)"
   ]
  },
  {
   "cell_type": "code",
   "execution_count": 4,
   "id": "independent-celtic",
   "metadata": {
    "ExecuteTime": {
     "end_time": "2022-04-10T13:29:00.081457Z",
     "start_time": "2022-04-10T13:28:59.935649Z"
    }
   },
   "outputs": [
    {
     "data": {
      "text/plain": [
       "<matplotlib.image.AxesImage at 0x24eef209e50>"
      ]
     },
     "execution_count": 4,
     "metadata": {},
     "output_type": "execute_result"
    },
    {
     "data": {
      "image/png": "[encoded data removed]",
      "text/plain": [
       "<Figure size 432x288 with 1 Axes>"
      ]
     },
     "metadata": {
      "needs_background": "light"
     },
     "output_type": "display_data"
    }
   ],
   "source": [
    "plt.imshow(checkerboard_10_420)"
   ]
  },
  {
   "cell_type": "code",
   "execution_count": null,
   "id": "handy-techno",
   "metadata": {},
   "outputs": [],
   "source": [
    "def count_state(checkerboard):\n",
    "    "
   ]
  }
 ],
 "metadata": {
  "kernelspec": {
   "display_name": "Python 3",
   "language": "python",
   "name": "python3"
  },
  "language_info": {
   "codemirror_mode": {
    "name": "ipython",
    "version": 3
   },
   "file_extension": ".py",
   "mimetype": "text/x-python",
   "name": "python",
   "nbconvert_exporter": "python",
   "pygments_lexer": "ipython3",
   "version": "3.8.8"
  },
  "latex_envs": {
   "LaTeX_envs_menu_present": true,
   "autoclose": false,
   "autocomplete": true,
   "bibliofile": "biblio.bib",
   "cite_by": "apalike",
   "current_citInitial": 1,
   "eqLabelWithNumbers": true,
   "eqNumInitial": 1,
   "hotkeys": {
    "equation": "Ctrl-E",
    "itemize": "Ctrl-I"
   },
   "labels_anchors": false,
   "latex_user_defs": false,
   "report_style_numbering": false,
   "user_envs_cfg": false
  },
  "toc": {
   "base_numbering": 1,
   "nav_menu": {},
   "number_sections": true,
   "sideBar": true,
   "skip_h1_title": false,
   "title_cell": "Table of Contents",
   "title_sidebar": "Contents",
   "toc_cell": false,
   "toc_position": {},
   "toc_section_display": true,
   "toc_window_display": false
  },
  "varInspector": {
   "cols": {
    "lenName": 16,
    "lenType": 16,
    "lenVar": 40
   },
   "kernels_config": {
    "python": {
     "delete_cmd_postfix": "",
     "delete_cmd_prefix": "del ",
     "library": "var_list.py",
     "varRefreshCmd": "print(var_dic_list())"
    },
    "r": {
     "delete_cmd_postfix": ") ",
     "delete_cmd_prefix": "rm(",
     "library": "var_list.r",
     "varRefreshCmd": "cat(var_dic_list()) "
    }
   },
   "types_to_exclude": [
    "module",
    "function",
    "builtin_function_or_method",
    "instance",
    "_Feature"
   ],
   "window_display": false
  }
 },
 "nbformat": 4,
 "nbformat_minor": 5
}
